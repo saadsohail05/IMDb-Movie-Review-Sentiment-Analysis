{
 "cells": [
  {
   "cell_type": "code",
   "execution_count": 162,
   "metadata": {},
   "outputs": [],
   "source": [
    "import numpy as np\n",
    "import tensorflow as tf\n",
    "from tensorflow.keras.datasets import imdb\n",
    "from tensorflow.keras.preprocessing import sequence\n",
    "from tensorflow.keras.models import Sequential\n",
    "from tensorflow.keras.layers import Embedding, LSTM, Dense\n",
    "from tensorflow.keras.callbacks import EarlyStopping"
   ]
  },
  {
   "cell_type": "code",
   "execution_count": 163,
   "metadata": {},
   "outputs": [],
   "source": [
    "# For understanding the data, mapping words\n",
    "word_index = imdb.get_word_index()\n",
    "reverse_word_index = dict([(value, key) for (key, value) in word_index.items()])"
   ]
  },
  {
   "cell_type": "code",
   "execution_count": 164,
   "metadata": {},
   "outputs": [],
   "source": [
    "# Load the pre-trained model\n",
    "model = tf.keras.models.load_model('imdb_rnn_model_update.keras')"
   ]
  },
  {
   "cell_type": "code",
   "execution_count": 165,
   "metadata": {},
   "outputs": [
    {
     "data": {
      "text/html": [
       "<pre style=\"white-space:pre;overflow-x:auto;line-height:normal;font-family:Menlo,'DejaVu Sans Mono',consolas,'Courier New',monospace\"><span style=\"font-weight: bold\">Model: \"sequential\"</span>\n",
       "</pre>\n"
      ],
      "text/plain": [
       "\u001b[1mModel: \"sequential\"\u001b[0m\n"
      ]
     },
     "metadata": {},
     "output_type": "display_data"
    },
    {
     "data": {
      "text/html": [
       "<pre style=\"white-space:pre;overflow-x:auto;line-height:normal;font-family:Menlo,'DejaVu Sans Mono',consolas,'Courier New',monospace\">┏━━━━━━━━━━━━━━━━━━━━━━━━━━━━━━━━━┳━━━━━━━━━━━━━━━━━━━━━━━━┳━━━━━━━━━━━━━━━┓\n",
       "┃<span style=\"font-weight: bold\"> Layer (type)                    </span>┃<span style=\"font-weight: bold\"> Output Shape           </span>┃<span style=\"font-weight: bold\">       Param # </span>┃\n",
       "┡━━━━━━━━━━━━━━━━━━━━━━━━━━━━━━━━━╇━━━━━━━━━━━━━━━━━━━━━━━━╇━━━━━━━━━━━━━━━┩\n",
       "│ embedding (<span style=\"color: #0087ff; text-decoration-color: #0087ff\">Embedding</span>)           │ (<span style=\"color: #00af00; text-decoration-color: #00af00\">32</span>, <span style=\"color: #00af00; text-decoration-color: #00af00\">500</span>, <span style=\"color: #00af00; text-decoration-color: #00af00\">128</span>)         │     <span style=\"color: #00af00; text-decoration-color: #00af00\">1,280,000</span> │\n",
       "├─────────────────────────────────┼────────────────────────┼───────────────┤\n",
       "│ simple_rnn (<span style=\"color: #0087ff; text-decoration-color: #0087ff\">SimpleRNN</span>)          │ (<span style=\"color: #00af00; text-decoration-color: #00af00\">32</span>, <span style=\"color: #00af00; text-decoration-color: #00af00\">128</span>)              │        <span style=\"color: #00af00; text-decoration-color: #00af00\">32,896</span> │\n",
       "├─────────────────────────────────┼────────────────────────┼───────────────┤\n",
       "│ dense (<span style=\"color: #0087ff; text-decoration-color: #0087ff\">Dense</span>)                   │ (<span style=\"color: #00af00; text-decoration-color: #00af00\">32</span>, <span style=\"color: #00af00; text-decoration-color: #00af00\">1</span>)                │           <span style=\"color: #00af00; text-decoration-color: #00af00\">129</span> │\n",
       "└─────────────────────────────────┴────────────────────────┴───────────────┘\n",
       "</pre>\n"
      ],
      "text/plain": [
       "┏━━━━━━━━━━━━━━━━━━━━━━━━━━━━━━━━━┳━━━━━━━━━━━━━━━━━━━━━━━━┳━━━━━━━━━━━━━━━┓\n",
       "┃\u001b[1m \u001b[0m\u001b[1mLayer (type)                   \u001b[0m\u001b[1m \u001b[0m┃\u001b[1m \u001b[0m\u001b[1mOutput Shape          \u001b[0m\u001b[1m \u001b[0m┃\u001b[1m \u001b[0m\u001b[1m      Param #\u001b[0m\u001b[1m \u001b[0m┃\n",
       "┡━━━━━━━━━━━━━━━━━━━━━━━━━━━━━━━━━╇━━━━━━━━━━━━━━━━━━━━━━━━╇━━━━━━━━━━━━━━━┩\n",
       "│ embedding (\u001b[38;5;33mEmbedding\u001b[0m)           │ (\u001b[38;5;34m32\u001b[0m, \u001b[38;5;34m500\u001b[0m, \u001b[38;5;34m128\u001b[0m)         │     \u001b[38;5;34m1,280,000\u001b[0m │\n",
       "├─────────────────────────────────┼────────────────────────┼───────────────┤\n",
       "│ simple_rnn (\u001b[38;5;33mSimpleRNN\u001b[0m)          │ (\u001b[38;5;34m32\u001b[0m, \u001b[38;5;34m128\u001b[0m)              │        \u001b[38;5;34m32,896\u001b[0m │\n",
       "├─────────────────────────────────┼────────────────────────┼───────────────┤\n",
       "│ dense (\u001b[38;5;33mDense\u001b[0m)                   │ (\u001b[38;5;34m32\u001b[0m, \u001b[38;5;34m1\u001b[0m)                │           \u001b[38;5;34m129\u001b[0m │\n",
       "└─────────────────────────────────┴────────────────────────┴───────────────┘\n"
      ]
     },
     "metadata": {},
     "output_type": "display_data"
    },
    {
     "data": {
      "text/html": [
       "<pre style=\"white-space:pre;overflow-x:auto;line-height:normal;font-family:Menlo,'DejaVu Sans Mono',consolas,'Courier New',monospace\"><span style=\"font-weight: bold\"> Total params: </span><span style=\"color: #00af00; text-decoration-color: #00af00\">3,939,077</span> (15.03 MB)\n",
       "</pre>\n"
      ],
      "text/plain": [
       "\u001b[1m Total params: \u001b[0m\u001b[38;5;34m3,939,077\u001b[0m (15.03 MB)\n"
      ]
     },
     "metadata": {},
     "output_type": "display_data"
    },
    {
     "data": {
      "text/html": [
       "<pre style=\"white-space:pre;overflow-x:auto;line-height:normal;font-family:Menlo,'DejaVu Sans Mono',consolas,'Courier New',monospace\"><span style=\"font-weight: bold\"> Trainable params: </span><span style=\"color: #00af00; text-decoration-color: #00af00\">1,313,025</span> (5.01 MB)\n",
       "</pre>\n"
      ],
      "text/plain": [
       "\u001b[1m Trainable params: \u001b[0m\u001b[38;5;34m1,313,025\u001b[0m (5.01 MB)\n"
      ]
     },
     "metadata": {},
     "output_type": "display_data"
    },
    {
     "data": {
      "text/html": [
       "<pre style=\"white-space:pre;overflow-x:auto;line-height:normal;font-family:Menlo,'DejaVu Sans Mono',consolas,'Courier New',monospace\"><span style=\"font-weight: bold\"> Non-trainable params: </span><span style=\"color: #00af00; text-decoration-color: #00af00\">0</span> (0.00 B)\n",
       "</pre>\n"
      ],
      "text/plain": [
       "\u001b[1m Non-trainable params: \u001b[0m\u001b[38;5;34m0\u001b[0m (0.00 B)\n"
      ]
     },
     "metadata": {},
     "output_type": "display_data"
    },
    {
     "data": {
      "text/html": [
       "<pre style=\"white-space:pre;overflow-x:auto;line-height:normal;font-family:Menlo,'DejaVu Sans Mono',consolas,'Courier New',monospace\"><span style=\"font-weight: bold\"> Optimizer params: </span><span style=\"color: #00af00; text-decoration-color: #00af00\">2,626,052</span> (10.02 MB)\n",
       "</pre>\n"
      ],
      "text/plain": [
       "\u001b[1m Optimizer params: \u001b[0m\u001b[38;5;34m2,626,052\u001b[0m (10.02 MB)\n"
      ]
     },
     "metadata": {},
     "output_type": "display_data"
    }
   ],
   "source": [
    "model.summary()  # Check if it's consistent with the training model\n"
   ]
  },
  {
   "cell_type": "code",
   "execution_count": 166,
   "metadata": {},
   "outputs": [
    {
     "data": {
      "text/plain": [
       "[array([[-2.0146267e-01, -1.5681446e-01, -1.3160747e-01, ...,\n",
       "          2.3231667e-01,  1.0393751e+00, -9.8224795e-01],\n",
       "        [-4.8179384e-02, -6.0766287e-02, -4.1626155e-02, ...,\n",
       "          3.8805669e-03,  4.1132450e-02, -1.2767346e-03],\n",
       "        [-7.0045167e-04, -7.7118808e-03,  1.2881058e-01, ...,\n",
       "          4.9857702e-02,  8.4368050e-02, -5.7094339e-02],\n",
       "        ...,\n",
       "        [ 5.1448919e-02,  3.0089995e-02,  7.3076621e-02, ...,\n",
       "          1.6683979e-02, -8.5547999e-02, -1.3457686e-02],\n",
       "        [ 4.5791805e-02,  1.1109664e-01,  1.1416423e-01, ...,\n",
       "         -1.5986361e-01,  2.3693999e-02, -8.1028886e-02],\n",
       "        [-2.6140444e-02, -1.0015985e-01, -7.3533915e-02, ...,\n",
       "          1.2387384e-01, -4.7580441e-03,  1.4403093e-01]], dtype=float32),\n",
       " array([[ 0.03775856, -0.09899052,  0.04897581, ..., -0.13431191,\n",
       "          0.09603667, -0.13601123],\n",
       "        [ 0.15040408,  0.1150291 , -0.03592942, ..., -0.0844624 ,\n",
       "         -0.06701031,  0.11801624],\n",
       "        [ 0.01283136,  0.04307311, -0.10171245, ..., -0.00623285,\n",
       "         -0.05791074, -0.05935443],\n",
       "        ...,\n",
       "        [ 0.07214894, -0.13714823, -0.05010944, ..., -0.09173054,\n",
       "          0.01841513, -0.1029928 ],\n",
       "        [-0.03824108,  0.13832027, -0.04291445, ..., -0.02362325,\n",
       "         -0.05666177, -0.18173487],\n",
       "        [ 0.10613566, -0.12312566,  0.06528103, ..., -0.01827616,\n",
       "          0.07114848, -0.05456672]], dtype=float32),\n",
       " array([[-0.02500719,  0.05199782, -0.06536084, ..., -0.03417054,\n",
       "         -0.26124164,  0.056335  ],\n",
       "        [ 0.10666719,  0.02633364,  0.07263242, ...,  0.04068378,\n",
       "         -0.01458607, -0.2324521 ],\n",
       "        [-0.02406119,  0.18071109,  0.06125864, ...,  0.06243541,\n",
       "          0.05668874, -0.13186128],\n",
       "        ...,\n",
       "        [-0.03669065, -0.07819203,  0.03260813, ...,  0.07675546,\n",
       "         -0.29414856, -0.02104573],\n",
       "        [ 0.03206798, -0.07969103,  0.00098757, ..., -0.06352483,\n",
       "         -0.0139576 , -0.14998215],\n",
       "        [ 0.05296171, -0.08075931,  0.03302635, ...,  0.10504967,\n",
       "         -0.04442548,  0.17115761]], dtype=float32),\n",
       " array([-0.04588896,  0.02225037,  0.00212688, -0.0359085 , -0.01542129,\n",
       "        -0.00408253, -0.05466093, -0.02039595, -0.0350416 , -0.04445446,\n",
       "        -0.03092751, -0.02683398, -0.0088916 ,  0.02356023, -0.01554412,\n",
       "         0.00984993,  0.00754388, -0.03817057, -0.0159884 , -0.01720702,\n",
       "         0.01927998, -0.03833268,  0.00941999,  0.03000219,  0.0221418 ,\n",
       "        -0.05049718,  0.01854202, -0.02184557, -0.04120552, -0.02237108,\n",
       "         0.0350621 , -0.02593137, -0.02167267, -0.01041765, -0.04126307,\n",
       "        -0.02852467, -0.05072464,  0.00846837, -0.05627293, -0.01044133,\n",
       "        -0.04870091, -0.0346205 , -0.02672319, -0.05140855, -0.03314164,\n",
       "        -0.04179389, -0.0078971 , -0.03217813, -0.06169799,  0.03321956,\n",
       "        -0.01430544, -0.00475752, -0.01442259, -0.01373681, -0.00130511,\n",
       "        -0.03061005,  0.04661917, -0.02310525, -0.01610376, -0.02980722,\n",
       "         0.01963117, -0.03350021, -0.03373093, -0.02623406, -0.02661469,\n",
       "         0.03048508, -0.02630663, -0.00767438, -0.01938964,  0.03446515,\n",
       "         0.03314873,  0.03381942,  0.02939999, -0.02017707, -0.00905381,\n",
       "        -0.03591137, -0.02267085, -0.01756473, -0.04991384,  0.02420776,\n",
       "         0.01285538, -0.01638963, -0.04169564,  0.02374919, -0.03583676,\n",
       "        -0.02019566, -0.00687987,  0.04627818,  0.0404731 , -0.01524939,\n",
       "        -0.03002939,  0.0343302 , -0.0535184 ,  0.01378753, -0.00680013,\n",
       "        -0.01931394,  0.00524223, -0.03603888,  0.01578273, -0.00618301,\n",
       "        -0.05805836, -0.01083351, -0.07802521, -0.06131086, -0.01296686,\n",
       "         0.00660817, -0.00041071,  0.00141779, -0.0573228 , -0.00920277,\n",
       "         0.01063482, -0.02816693, -0.02914183,  0.00044688,  0.03431311,\n",
       "        -0.00606131, -0.03764222,  0.01698906,  0.00639074, -0.02673467,\n",
       "         0.02788034,  0.0206556 ,  0.01186917, -0.0300159 , -0.0136886 ,\n",
       "        -0.04037598, -0.03679436, -0.01881613], dtype=float32),\n",
       " array([[ 0.05419088],\n",
       "        [-0.23407245],\n",
       "        [ 0.034218  ],\n",
       "        [ 0.1808941 ],\n",
       "        [ 0.03162919],\n",
       "        [-0.22228564],\n",
       "        [ 0.13800643],\n",
       "        [ 0.05454065],\n",
       "        [ 0.06913961],\n",
       "        [ 0.10422175],\n",
       "        [ 0.0300265 ],\n",
       "        [-0.01988144],\n",
       "        [ 0.15509206],\n",
       "        [-0.01030534],\n",
       "        [-0.16586071],\n",
       "        [-0.15862392],\n",
       "        [-0.01096448],\n",
       "        [ 0.15985256],\n",
       "        [ 0.0125995 ],\n",
       "        [-0.18784985],\n",
       "        [-0.13463178],\n",
       "        [ 0.5248946 ],\n",
       "        [-0.20048335],\n",
       "        [-0.16043624],\n",
       "        [ 0.12888496],\n",
       "        [-0.0805736 ],\n",
       "        [-0.13386258],\n",
       "        [-0.01684013],\n",
       "        [-0.05633805],\n",
       "        [-0.1439381 ],\n",
       "        [ 0.06381164],\n",
       "        [ 1.2434456 ],\n",
       "        [ 0.07028208],\n",
       "        [ 0.1588789 ],\n",
       "        [-0.06587776],\n",
       "        [-0.01276284],\n",
       "        [ 0.05409914],\n",
       "        [-0.1652471 ],\n",
       "        [-0.04017471],\n",
       "        [ 0.17494604],\n",
       "        [-0.19183008],\n",
       "        [ 0.08330805],\n",
       "        [-0.06262261],\n",
       "        [-0.20503877],\n",
       "        [ 0.00640359],\n",
       "        [ 0.22040874],\n",
       "        [ 0.12307354],\n",
       "        [-0.03420184],\n",
       "        [ 0.07148417],\n",
       "        [-0.10445235],\n",
       "        [-1.0625832 ],\n",
       "        [-0.1756838 ],\n",
       "        [ 0.23772937],\n",
       "        [-0.0571135 ],\n",
       "        [-0.16282804],\n",
       "        [ 0.00681268],\n",
       "        [ 0.21748947],\n",
       "        [-0.00634488],\n",
       "        [ 0.20282066],\n",
       "        [ 0.04935668],\n",
       "        [-0.14856806],\n",
       "        [ 0.17813946],\n",
       "        [ 0.11888381],\n",
       "        [-0.16992775],\n",
       "        [-0.19337794],\n",
       "        [-0.15146121],\n",
       "        [ 0.02404666],\n",
       "        [-0.12656765],\n",
       "        [ 0.00795215],\n",
       "        [-0.18988842],\n",
       "        [-0.13766176],\n",
       "        [-0.1790579 ],\n",
       "        [-0.17366627],\n",
       "        [ 0.05097054],\n",
       "        [ 0.08517326],\n",
       "        [ 0.16589177],\n",
       "        [ 0.08102854],\n",
       "        [ 0.0537336 ],\n",
       "        [ 0.18053797],\n",
       "        [ 0.0916171 ],\n",
       "        [-0.17846942],\n",
       "        [ 0.21136439],\n",
       "        [-0.00902334],\n",
       "        [-0.16031557],\n",
       "        [ 0.17560665],\n",
       "        [ 0.11688706],\n",
       "        [ 0.24168932],\n",
       "        [ 0.07776687],\n",
       "        [ 0.20953351],\n",
       "        [-0.17663436],\n",
       "        [ 0.17457592],\n",
       "        [ 0.10259207],\n",
       "        [-0.23980609],\n",
       "        [-0.19561432],\n",
       "        [ 0.15666302],\n",
       "        [-0.05394144],\n",
       "        [ 0.15084302],\n",
       "        [-0.07352895],\n",
       "        [-0.18644899],\n",
       "        [ 0.01408604],\n",
       "        [ 0.05949595],\n",
       "        [ 0.23776047],\n",
       "        [-0.05887736],\n",
       "        [-0.56485116],\n",
       "        [ 0.18755826],\n",
       "        [-0.01349519],\n",
       "        [-0.18687524],\n",
       "        [ 0.27740335],\n",
       "        [ 0.05415351],\n",
       "        [ 0.08768486],\n",
       "        [ 0.17704442],\n",
       "        [-0.07479946],\n",
       "        [ 0.08760758],\n",
       "        [-0.13716482],\n",
       "        [ 0.04090568],\n",
       "        [-0.07072125],\n",
       "        [ 0.12898253],\n",
       "        [-0.14152336],\n",
       "        [ 0.15162067],\n",
       "        [ 0.21217479],\n",
       "        [-0.18660472],\n",
       "        [ 0.05224092],\n",
       "        [ 0.02187608],\n",
       "        [ 0.22039075],\n",
       "        [ 0.03700701],\n",
       "        [ 0.20908996],\n",
       "        [-0.07786007],\n",
       "        [ 0.20717323]], dtype=float32),\n",
       " array([1.3771821], dtype=float32)]"
      ]
     },
     "execution_count": 166,
     "metadata": {},
     "output_type": "execute_result"
    }
   ],
   "source": [
    "model.get_weights() "
   ]
  },
  {
   "cell_type": "code",
   "execution_count": 167,
   "metadata": {},
   "outputs": [],
   "source": [
    "# Helper function to decode the reviews\n",
    "def decode_review(review):\n",
    "    return ' '.join([reverse_word_index.get(i - 3, '?') for i in review])"
   ]
  },
  {
   "cell_type": "code",
   "execution_count": 168,
   "metadata": {},
   "outputs": [],
   "source": [
    "# Helper Function to preprocess user input\n",
    "def preprocess_text(text):\n",
    "    words = text.lower().split()\n",
    "    encoded_review = [word_index.get(word, 2) + 3 for word in words]  # Ensure consistent mapping\n",
    "    padded_review = sequence.pad_sequences([encoded_review], maxlen=500)\n",
    "    return padded_review"
   ]
  },
  {
   "cell_type": "code",
   "execution_count": 169,
   "metadata": {},
   "outputs": [],
   "source": [
    "# Helper Function to predict the sentiment\n",
    "def predict_sentiment(review):\n",
    "    preprocessed_review = preprocess_text(review)\n",
    "    prediction = model.predict(preprocessed_review)\n",
    "    print(f\"Raw prediction score: {prediction[0][0]}\")\n",
    "    sentiment = 'Positive' if prediction[0][0] > 0.5 else 'Negative'\n",
    "    return sentiment, prediction[0][0]"
   ]
  },
  {
   "cell_type": "code",
   "execution_count": 171,
   "metadata": {},
   "outputs": [
    {
     "name": "stdout",
     "output_type": "stream",
     "text": [
      "\u001b[1m1/1\u001b[0m \u001b[32m━━━━━━━━━━━━━━━━━━━━\u001b[0m\u001b[37m\u001b[0m \u001b[1m0s\u001b[0m 30ms/step\n",
      "Raw prediction score: 0.4641614556312561\n",
      "The sentiment of the review is Negative with a score of 0.4642\n"
     ]
    }
   ],
   "source": [
    "\n",
    "# User Input and Prediction\n",
    "example_review = \"The movie was pathetic and boring.\"\n",
    "example_review2 = \"Bad movie waste of time\"\n",
    "example_review3 = \"This movie was fantastic! The acting was great and the plot was thrilling.\"\n",
    "sentiment, score = predict_sentiment(example_review3)\n",
    "print(f'The sentiment of the review is {sentiment} with a score of {score:.4f}')"
   ]
  }
 ],
 "metadata": {
  "kernelspec": {
   "display_name": "myenv",
   "language": "python",
   "name": "python3"
  },
  "language_info": {
   "codemirror_mode": {
    "name": "ipython",
    "version": 3
   },
   "file_extension": ".py",
   "mimetype": "text/x-python",
   "name": "python",
   "nbconvert_exporter": "python",
   "pygments_lexer": "ipython3",
   "version": "3.12.3"
  }
 },
 "nbformat": 4,
 "nbformat_minor": 2
}
