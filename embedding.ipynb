{
 "cells": [
  {
   "cell_type": "code",
   "execution_count": 25,
   "metadata": {},
   "outputs": [],
   "source": [
    "from tensorflow.keras.preprocessing.text import one_hot\n",
    "from tensorflow.keras.layers import Embedding\n",
    "from tensorflow.keras.preprocessing.sequence import pad_sequences\n",
    "from tensorflow.keras.models import Sequential\n",
    "import numpy as np"
   ]
  },
  {
   "cell_type": "code",
   "execution_count": 16,
   "metadata": {},
   "outputs": [],
   "source": [
    "# Sample Sentences\n",
    "sent=[ 'the glass of milk',\n",
    "     'the glass of juice',\n",
    "     'the cup of tea',\n",
    "    'I am a good boy',\n",
    "     'I am a good developer',\n",
    "     'understand the meaning of words',\n",
    "     'your videos are good',]"
   ]
  },
  {
   "cell_type": "code",
   "execution_count": 17,
   "metadata": {},
   "outputs": [],
   "source": [
    "# Define Vocabulary Size\n",
    "voc_size=10000\n"
   ]
  },
  {
   "cell_type": "code",
   "execution_count": 18,
   "metadata": {},
   "outputs": [
    {
     "name": "stdout",
     "output_type": "stream",
     "text": [
      "[[5939, 3866, 9543, 2527], [5939, 3866, 9543, 2975], [5939, 2761, 9543, 4183], [872, 1755, 7161, 2207, 5178], [872, 1755, 7161, 2207, 8934], [8167, 5939, 3911, 9543, 970], [775, 467, 7291, 2207]]\n"
     ]
    }
   ],
   "source": [
    "# One Hot Representation\n",
    "one_hot_rep=[one_hot(words,voc_size)for words in sent]\n",
    "print(one_hot_rep)"
   ]
  },
  {
   "cell_type": "code",
   "execution_count": 19,
   "metadata": {},
   "outputs": [
    {
     "name": "stdout",
     "output_type": "stream",
     "text": [
      "[[   0    0    0    0 5939 3866 9543 2527]\n",
      " [   0    0    0    0 5939 3866 9543 2975]\n",
      " [   0    0    0    0 5939 2761 9543 4183]\n",
      " [   0    0    0  872 1755 7161 2207 5178]\n",
      " [   0    0    0  872 1755 7161 2207 8934]\n",
      " [   0    0    0 8167 5939 3911 9543  970]\n",
      " [   0    0    0    0  775  467 7291 2207]]\n"
     ]
    }
   ],
   "source": [
    "# word embedding representation\n",
    "sent_length=8\n",
    "embedded_docs=pad_sequences(one_hot_rep,padding='pre',maxlen=sent_length)\n",
    "print(embedded_docs)"
   ]
  },
  {
   "cell_type": "code",
   "execution_count": 20,
   "metadata": {},
   "outputs": [],
   "source": [
    "# Feature Representation\n",
    "dim=10"
   ]
  },
  {
   "cell_type": "code",
   "execution_count": 21,
   "metadata": {},
   "outputs": [
    {
     "name": "stderr",
     "output_type": "stream",
     "text": [
      "/home/saad-sohail/Desktop/IMDb-Movie-Review-Sentiment-Analysis/myenv/lib/python3.12/site-packages/keras/src/layers/core/embedding.py:90: UserWarning: Argument `input_length` is deprecated. Just remove it.\n",
      "  warnings.warn(\n"
     ]
    }
   ],
   "source": [
    "# Define Model\n",
    "model=Sequential()\n",
    "# add embedding layer\n",
    "model.add(Embedding(input_dim=voc_size, output_dim=dim, input_length=sent_length))\n",
    "model.compile('adam','mse')"
   ]
  },
  {
   "cell_type": "code",
   "execution_count": 22,
   "metadata": {},
   "outputs": [
    {
     "data": {
      "text/html": [
       "<pre style=\"white-space:pre;overflow-x:auto;line-height:normal;font-family:Menlo,'DejaVu Sans Mono',consolas,'Courier New',monospace\"><span style=\"font-weight: bold\">Model: \"sequential_1\"</span>\n",
       "</pre>\n"
      ],
      "text/plain": [
       "\u001b[1mModel: \"sequential_1\"\u001b[0m\n"
      ]
     },
     "metadata": {},
     "output_type": "display_data"
    },
    {
     "data": {
      "text/html": [
       "<pre style=\"white-space:pre;overflow-x:auto;line-height:normal;font-family:Menlo,'DejaVu Sans Mono',consolas,'Courier New',monospace\">┏━━━━━━━━━━━━━━━━━━━━━━━━━━━━━━━━━┳━━━━━━━━━━━━━━━━━━━━━━━━┳━━━━━━━━━━━━━━━┓\n",
       "┃<span style=\"font-weight: bold\"> Layer (type)                    </span>┃<span style=\"font-weight: bold\"> Output Shape           </span>┃<span style=\"font-weight: bold\">       Param # </span>┃\n",
       "┡━━━━━━━━━━━━━━━━━━━━━━━━━━━━━━━━━╇━━━━━━━━━━━━━━━━━━━━━━━━╇━━━━━━━━━━━━━━━┩\n",
       "│ embedding_1 (<span style=\"color: #0087ff; text-decoration-color: #0087ff\">Embedding</span>)         │ ?                      │   <span style=\"color: #00af00; text-decoration-color: #00af00\">0</span> (unbuilt) │\n",
       "└─────────────────────────────────┴────────────────────────┴───────────────┘\n",
       "</pre>\n"
      ],
      "text/plain": [
       "┏━━━━━━━━━━━━━━━━━━━━━━━━━━━━━━━━━┳━━━━━━━━━━━━━━━━━━━━━━━━┳━━━━━━━━━━━━━━━┓\n",
       "┃\u001b[1m \u001b[0m\u001b[1mLayer (type)                   \u001b[0m\u001b[1m \u001b[0m┃\u001b[1m \u001b[0m\u001b[1mOutput Shape          \u001b[0m\u001b[1m \u001b[0m┃\u001b[1m \u001b[0m\u001b[1m      Param #\u001b[0m\u001b[1m \u001b[0m┃\n",
       "┡━━━━━━━━━━━━━━━━━━━━━━━━━━━━━━━━━╇━━━━━━━━━━━━━━━━━━━━━━━━╇━━━━━━━━━━━━━━━┩\n",
       "│ embedding_1 (\u001b[38;5;33mEmbedding\u001b[0m)         │ ?                      │   \u001b[38;5;34m0\u001b[0m (unbuilt) │\n",
       "└─────────────────────────────────┴────────────────────────┴───────────────┘\n"
      ]
     },
     "metadata": {},
     "output_type": "display_data"
    },
    {
     "data": {
      "text/html": [
       "<pre style=\"white-space:pre;overflow-x:auto;line-height:normal;font-family:Menlo,'DejaVu Sans Mono',consolas,'Courier New',monospace\"><span style=\"font-weight: bold\"> Total params: </span><span style=\"color: #00af00; text-decoration-color: #00af00\">0</span> (0.00 B)\n",
       "</pre>\n"
      ],
      "text/plain": [
       "\u001b[1m Total params: \u001b[0m\u001b[38;5;34m0\u001b[0m (0.00 B)\n"
      ]
     },
     "metadata": {},
     "output_type": "display_data"
    },
    {
     "data": {
      "text/html": [
       "<pre style=\"white-space:pre;overflow-x:auto;line-height:normal;font-family:Menlo,'DejaVu Sans Mono',consolas,'Courier New',monospace\"><span style=\"font-weight: bold\"> Trainable params: </span><span style=\"color: #00af00; text-decoration-color: #00af00\">0</span> (0.00 B)\n",
       "</pre>\n"
      ],
      "text/plain": [
       "\u001b[1m Trainable params: \u001b[0m\u001b[38;5;34m0\u001b[0m (0.00 B)\n"
      ]
     },
     "metadata": {},
     "output_type": "display_data"
    },
    {
     "data": {
      "text/html": [
       "<pre style=\"white-space:pre;overflow-x:auto;line-height:normal;font-family:Menlo,'DejaVu Sans Mono',consolas,'Courier New',monospace\"><span style=\"font-weight: bold\"> Non-trainable params: </span><span style=\"color: #00af00; text-decoration-color: #00af00\">0</span> (0.00 B)\n",
       "</pre>\n"
      ],
      "text/plain": [
       "\u001b[1m Non-trainable params: \u001b[0m\u001b[38;5;34m0\u001b[0m (0.00 B)\n"
      ]
     },
     "metadata": {},
     "output_type": "display_data"
    }
   ],
   "source": [
    "model.summary()"
   ]
  },
  {
   "cell_type": "code",
   "execution_count": 23,
   "metadata": {},
   "outputs": [
    {
     "name": "stdout",
     "output_type": "stream",
     "text": [
      "\u001b[1m1/1\u001b[0m \u001b[32m━━━━━━━━━━━━━━━━━━━━\u001b[0m\u001b[37m\u001b[0m \u001b[1m0s\u001b[0m 67ms/step\n"
     ]
    },
    {
     "data": {
      "text/plain": [
       "array([[[ 4.3823730e-02,  1.6578291e-02, -3.9734673e-02,  1.1300601e-02,\n",
       "          4.8939217e-02, -3.9221533e-03, -1.9913800e-03, -2.1955943e-02,\n",
       "          1.7837618e-02,  2.9664222e-02],\n",
       "        [ 4.3823730e-02,  1.6578291e-02, -3.9734673e-02,  1.1300601e-02,\n",
       "          4.8939217e-02, -3.9221533e-03, -1.9913800e-03, -2.1955943e-02,\n",
       "          1.7837618e-02,  2.9664222e-02],\n",
       "        [ 4.3823730e-02,  1.6578291e-02, -3.9734673e-02,  1.1300601e-02,\n",
       "          4.8939217e-02, -3.9221533e-03, -1.9913800e-03, -2.1955943e-02,\n",
       "          1.7837618e-02,  2.9664222e-02],\n",
       "        [ 4.3823730e-02,  1.6578291e-02, -3.9734673e-02,  1.1300601e-02,\n",
       "          4.8939217e-02, -3.9221533e-03, -1.9913800e-03, -2.1955943e-02,\n",
       "          1.7837618e-02,  2.9664222e-02],\n",
       "        [-4.3534961e-02, -3.6377452e-02,  2.7846862e-02,  3.0128248e-03,\n",
       "          2.3098599e-02,  3.4373354e-02, -3.5083152e-02, -1.3940610e-02,\n",
       "          2.5130082e-02,  3.7751887e-02],\n",
       "        [ 1.8833641e-02,  4.8213352e-02, -3.7272431e-02,  5.0528534e-03,\n",
       "          3.9507601e-02, -4.2184688e-02,  1.9201729e-02, -4.5401670e-02,\n",
       "         -4.4345748e-02, -4.0880047e-02],\n",
       "        [-2.9527260e-02,  2.0179536e-02,  3.4342121e-02,  1.9185830e-02,\n",
       "         -2.2929443e-02,  3.9568786e-02,  2.6635412e-02, -3.4632910e-02,\n",
       "          4.6404004e-03, -1.8595885e-02],\n",
       "        [ 2.8770868e-02,  1.2416672e-02, -2.3930073e-03,  2.2923362e-02,\n",
       "          2.6239935e-02, -3.2884791e-02,  1.1632491e-02,  1.0836162e-02,\n",
       "          2.4776328e-02, -1.6190521e-03]],\n",
       "\n",
       "       [[ 4.3823730e-02,  1.6578291e-02, -3.9734673e-02,  1.1300601e-02,\n",
       "          4.8939217e-02, -3.9221533e-03, -1.9913800e-03, -2.1955943e-02,\n",
       "          1.7837618e-02,  2.9664222e-02],\n",
       "        [ 4.3823730e-02,  1.6578291e-02, -3.9734673e-02,  1.1300601e-02,\n",
       "          4.8939217e-02, -3.9221533e-03, -1.9913800e-03, -2.1955943e-02,\n",
       "          1.7837618e-02,  2.9664222e-02],\n",
       "        [ 4.3823730e-02,  1.6578291e-02, -3.9734673e-02,  1.1300601e-02,\n",
       "          4.8939217e-02, -3.9221533e-03, -1.9913800e-03, -2.1955943e-02,\n",
       "          1.7837618e-02,  2.9664222e-02],\n",
       "        [ 4.3823730e-02,  1.6578291e-02, -3.9734673e-02,  1.1300601e-02,\n",
       "          4.8939217e-02, -3.9221533e-03, -1.9913800e-03, -2.1955943e-02,\n",
       "          1.7837618e-02,  2.9664222e-02],\n",
       "        [-4.3534961e-02, -3.6377452e-02,  2.7846862e-02,  3.0128248e-03,\n",
       "          2.3098599e-02,  3.4373354e-02, -3.5083152e-02, -1.3940610e-02,\n",
       "          2.5130082e-02,  3.7751887e-02],\n",
       "        [ 1.8833641e-02,  4.8213352e-02, -3.7272431e-02,  5.0528534e-03,\n",
       "          3.9507601e-02, -4.2184688e-02,  1.9201729e-02, -4.5401670e-02,\n",
       "         -4.4345748e-02, -4.0880047e-02],\n",
       "        [-2.9527260e-02,  2.0179536e-02,  3.4342121e-02,  1.9185830e-02,\n",
       "         -2.2929443e-02,  3.9568786e-02,  2.6635412e-02, -3.4632910e-02,\n",
       "          4.6404004e-03, -1.8595885e-02],\n",
       "        [ 1.5066434e-02, -3.2218732e-02, -4.8325825e-02,  4.3421540e-02,\n",
       "         -3.5869978e-02,  4.6588108e-04, -2.6793946e-02, -3.6098052e-02,\n",
       "          4.1457526e-03, -1.6347609e-02]],\n",
       "\n",
       "       [[ 4.3823730e-02,  1.6578291e-02, -3.9734673e-02,  1.1300601e-02,\n",
       "          4.8939217e-02, -3.9221533e-03, -1.9913800e-03, -2.1955943e-02,\n",
       "          1.7837618e-02,  2.9664222e-02],\n",
       "        [ 4.3823730e-02,  1.6578291e-02, -3.9734673e-02,  1.1300601e-02,\n",
       "          4.8939217e-02, -3.9221533e-03, -1.9913800e-03, -2.1955943e-02,\n",
       "          1.7837618e-02,  2.9664222e-02],\n",
       "        [ 4.3823730e-02,  1.6578291e-02, -3.9734673e-02,  1.1300601e-02,\n",
       "          4.8939217e-02, -3.9221533e-03, -1.9913800e-03, -2.1955943e-02,\n",
       "          1.7837618e-02,  2.9664222e-02],\n",
       "        [ 4.3823730e-02,  1.6578291e-02, -3.9734673e-02,  1.1300601e-02,\n",
       "          4.8939217e-02, -3.9221533e-03, -1.9913800e-03, -2.1955943e-02,\n",
       "          1.7837618e-02,  2.9664222e-02],\n",
       "        [-4.3534961e-02, -3.6377452e-02,  2.7846862e-02,  3.0128248e-03,\n",
       "          2.3098599e-02,  3.4373354e-02, -3.5083152e-02, -1.3940610e-02,\n",
       "          2.5130082e-02,  3.7751887e-02],\n",
       "        [-3.2179259e-02,  2.9713500e-02, -6.7948699e-03, -2.3406982e-02,\n",
       "         -2.7305000e-03, -2.3254085e-02,  3.6579955e-02,  4.0373709e-02,\n",
       "          4.5564342e-02,  2.3007106e-02],\n",
       "        [-2.9527260e-02,  2.0179536e-02,  3.4342121e-02,  1.9185830e-02,\n",
       "         -2.2929443e-02,  3.9568786e-02,  2.6635412e-02, -3.4632910e-02,\n",
       "          4.6404004e-03, -1.8595885e-02],\n",
       "        [-3.9070893e-02,  3.8313631e-02, -2.1425152e-02,  4.0014055e-02,\n",
       "         -3.9509941e-02,  4.5785870e-02,  3.9915930e-02,  4.4581484e-02,\n",
       "         -1.1618398e-02,  2.4010483e-02]],\n",
       "\n",
       "       [[ 4.3823730e-02,  1.6578291e-02, -3.9734673e-02,  1.1300601e-02,\n",
       "          4.8939217e-02, -3.9221533e-03, -1.9913800e-03, -2.1955943e-02,\n",
       "          1.7837618e-02,  2.9664222e-02],\n",
       "        [ 4.3823730e-02,  1.6578291e-02, -3.9734673e-02,  1.1300601e-02,\n",
       "          4.8939217e-02, -3.9221533e-03, -1.9913800e-03, -2.1955943e-02,\n",
       "          1.7837618e-02,  2.9664222e-02],\n",
       "        [ 4.3823730e-02,  1.6578291e-02, -3.9734673e-02,  1.1300601e-02,\n",
       "          4.8939217e-02, -3.9221533e-03, -1.9913800e-03, -2.1955943e-02,\n",
       "          1.7837618e-02,  2.9664222e-02],\n",
       "        [-3.6420003e-03,  3.8250174e-02,  3.3293437e-02,  4.0237401e-02,\n",
       "          8.3498359e-03, -2.6342822e-02, -8.9341886e-03,  2.2709500e-02,\n",
       "         -5.2780621e-03, -4.9624074e-02],\n",
       "        [-4.3075196e-03, -2.7062858e-02,  4.1700456e-02, -2.6969090e-03,\n",
       "          3.9206494e-02,  3.4207691e-02,  4.8294272e-02,  4.9626518e-02,\n",
       "         -4.6716224e-02, -4.2806663e-02],\n",
       "        [-4.1128159e-02, -1.3554670e-02, -9.5394850e-03,  4.1674487e-03,\n",
       "         -4.9954452e-02, -4.7016766e-02,  4.0136073e-02,  7.0195682e-03,\n",
       "         -4.0368687e-02, -2.6043987e-02],\n",
       "        [ 3.2975379e-02, -4.0394045e-02, -2.3085250e-02,  3.7725400e-02,\n",
       "          4.8948158e-02, -7.8879297e-05,  2.5991093e-02,  3.2751653e-02,\n",
       "          1.6626801e-02,  2.1037806e-02],\n",
       "        [ 3.0029263e-02,  3.6977779e-02, -2.9868174e-02, -4.5370735e-02,\n",
       "         -4.1951787e-02,  3.9242316e-02, -1.7491926e-02,  4.8620377e-02,\n",
       "          4.5730043e-02,  3.6757398e-02]],\n",
       "\n",
       "       [[ 4.3823730e-02,  1.6578291e-02, -3.9734673e-02,  1.1300601e-02,\n",
       "          4.8939217e-02, -3.9221533e-03, -1.9913800e-03, -2.1955943e-02,\n",
       "          1.7837618e-02,  2.9664222e-02],\n",
       "        [ 4.3823730e-02,  1.6578291e-02, -3.9734673e-02,  1.1300601e-02,\n",
       "          4.8939217e-02, -3.9221533e-03, -1.9913800e-03, -2.1955943e-02,\n",
       "          1.7837618e-02,  2.9664222e-02],\n",
       "        [ 4.3823730e-02,  1.6578291e-02, -3.9734673e-02,  1.1300601e-02,\n",
       "          4.8939217e-02, -3.9221533e-03, -1.9913800e-03, -2.1955943e-02,\n",
       "          1.7837618e-02,  2.9664222e-02],\n",
       "        [-3.6420003e-03,  3.8250174e-02,  3.3293437e-02,  4.0237401e-02,\n",
       "          8.3498359e-03, -2.6342822e-02, -8.9341886e-03,  2.2709500e-02,\n",
       "         -5.2780621e-03, -4.9624074e-02],\n",
       "        [-4.3075196e-03, -2.7062858e-02,  4.1700456e-02, -2.6969090e-03,\n",
       "          3.9206494e-02,  3.4207691e-02,  4.8294272e-02,  4.9626518e-02,\n",
       "         -4.6716224e-02, -4.2806663e-02],\n",
       "        [-4.1128159e-02, -1.3554670e-02, -9.5394850e-03,  4.1674487e-03,\n",
       "         -4.9954452e-02, -4.7016766e-02,  4.0136073e-02,  7.0195682e-03,\n",
       "         -4.0368687e-02, -2.6043987e-02],\n",
       "        [ 3.2975379e-02, -4.0394045e-02, -2.3085250e-02,  3.7725400e-02,\n",
       "          4.8948158e-02, -7.8879297e-05,  2.5991093e-02,  3.2751653e-02,\n",
       "          1.6626801e-02,  2.1037806e-02],\n",
       "        [-3.8927831e-02, -4.6080291e-02, -1.8534862e-02, -9.1632977e-03,\n",
       "          1.0614287e-02,  2.3202751e-02,  2.2468280e-02,  3.2563593e-02,\n",
       "         -2.4698973e-02, -2.2354711e-02]],\n",
       "\n",
       "       [[ 4.3823730e-02,  1.6578291e-02, -3.9734673e-02,  1.1300601e-02,\n",
       "          4.8939217e-02, -3.9221533e-03, -1.9913800e-03, -2.1955943e-02,\n",
       "          1.7837618e-02,  2.9664222e-02],\n",
       "        [ 4.3823730e-02,  1.6578291e-02, -3.9734673e-02,  1.1300601e-02,\n",
       "          4.8939217e-02, -3.9221533e-03, -1.9913800e-03, -2.1955943e-02,\n",
       "          1.7837618e-02,  2.9664222e-02],\n",
       "        [ 4.3823730e-02,  1.6578291e-02, -3.9734673e-02,  1.1300601e-02,\n",
       "          4.8939217e-02, -3.9221533e-03, -1.9913800e-03, -2.1955943e-02,\n",
       "          1.7837618e-02,  2.9664222e-02],\n",
       "        [ 1.5964080e-02, -2.5721325e-02, -1.0631073e-02, -1.3085380e-03,\n",
       "          1.7723028e-02,  2.8855789e-02,  2.0356547e-02,  3.5093401e-02,\n",
       "         -4.6349611e-02, -1.4849082e-03],\n",
       "        [-4.3534961e-02, -3.6377452e-02,  2.7846862e-02,  3.0128248e-03,\n",
       "          2.3098599e-02,  3.4373354e-02, -3.5083152e-02, -1.3940610e-02,\n",
       "          2.5130082e-02,  3.7751887e-02],\n",
       "        [-1.6833924e-02, -4.8924055e-02, -1.5090883e-02, -2.3185873e-02,\n",
       "          3.2896232e-02, -2.1203434e-02,  1.1071932e-02, -4.7897425e-02,\n",
       "          6.7388304e-03,  3.0994836e-02],\n",
       "        [-2.9527260e-02,  2.0179536e-02,  3.4342121e-02,  1.9185830e-02,\n",
       "         -2.2929443e-02,  3.9568786e-02,  2.6635412e-02, -3.4632910e-02,\n",
       "          4.6404004e-03, -1.8595885e-02],\n",
       "        [-3.3167399e-02, -4.6175875e-02,  2.5580857e-02,  2.4381448e-02,\n",
       "         -3.1489123e-02, -1.3553966e-02,  1.0139834e-02, -4.2912532e-02,\n",
       "         -4.7080722e-02,  4.9565319e-02]],\n",
       "\n",
       "       [[ 4.3823730e-02,  1.6578291e-02, -3.9734673e-02,  1.1300601e-02,\n",
       "          4.8939217e-02, -3.9221533e-03, -1.9913800e-03, -2.1955943e-02,\n",
       "          1.7837618e-02,  2.9664222e-02],\n",
       "        [ 4.3823730e-02,  1.6578291e-02, -3.9734673e-02,  1.1300601e-02,\n",
       "          4.8939217e-02, -3.9221533e-03, -1.9913800e-03, -2.1955943e-02,\n",
       "          1.7837618e-02,  2.9664222e-02],\n",
       "        [ 4.3823730e-02,  1.6578291e-02, -3.9734673e-02,  1.1300601e-02,\n",
       "          4.8939217e-02, -3.9221533e-03, -1.9913800e-03, -2.1955943e-02,\n",
       "          1.7837618e-02,  2.9664222e-02],\n",
       "        [ 4.3823730e-02,  1.6578291e-02, -3.9734673e-02,  1.1300601e-02,\n",
       "          4.8939217e-02, -3.9221533e-03, -1.9913800e-03, -2.1955943e-02,\n",
       "          1.7837618e-02,  2.9664222e-02],\n",
       "        [ 4.4673052e-02,  3.3650998e-02, -2.6863873e-02, -3.4645379e-02,\n",
       "          8.5503943e-03, -2.0724440e-02, -1.4557730e-02,  2.8568134e-03,\n",
       "          4.5898307e-02,  3.0339491e-02],\n",
       "        [-4.6335995e-02, -4.8449077e-02, -1.2058914e-02, -4.0188480e-02,\n",
       "          4.9472824e-03,  1.2875665e-02,  1.7949667e-02, -3.6377467e-02,\n",
       "          1.4599513e-02, -2.7872622e-02],\n",
       "        [ 4.8766401e-02,  4.0402237e-02, -1.9786192e-02,  2.1506157e-02,\n",
       "          4.9555901e-02, -3.6313485e-02, -2.6153410e-02, -3.4266461e-02,\n",
       "          4.9419884e-02,  1.8569443e-02],\n",
       "        [ 3.2975379e-02, -4.0394045e-02, -2.3085250e-02,  3.7725400e-02,\n",
       "          4.8948158e-02, -7.8879297e-05,  2.5991093e-02,  3.2751653e-02,\n",
       "          1.6626801e-02,  2.1037806e-02]]], dtype=float32)"
      ]
     },
     "execution_count": 23,
     "metadata": {},
     "output_type": "execute_result"
    }
   ],
   "source": [
    "model.predict(embedded_docs)"
   ]
  },
  {
   "cell_type": "code",
   "execution_count": 24,
   "metadata": {},
   "outputs": [
    {
     "data": {
      "text/html": [
       "<pre style=\"white-space:pre;overflow-x:auto;line-height:normal;font-family:Menlo,'DejaVu Sans Mono',consolas,'Courier New',monospace\"><span style=\"font-weight: bold\">Model: \"sequential_1\"</span>\n",
       "</pre>\n"
      ],
      "text/plain": [
       "\u001b[1mModel: \"sequential_1\"\u001b[0m\n"
      ]
     },
     "metadata": {},
     "output_type": "display_data"
    },
    {
     "data": {
      "text/html": [
       "<pre style=\"white-space:pre;overflow-x:auto;line-height:normal;font-family:Menlo,'DejaVu Sans Mono',consolas,'Courier New',monospace\">┏━━━━━━━━━━━━━━━━━━━━━━━━━━━━━━━━━┳━━━━━━━━━━━━━━━━━━━━━━━━┳━━━━━━━━━━━━━━━┓\n",
       "┃<span style=\"font-weight: bold\"> Layer (type)                    </span>┃<span style=\"font-weight: bold\"> Output Shape           </span>┃<span style=\"font-weight: bold\">       Param # </span>┃\n",
       "┡━━━━━━━━━━━━━━━━━━━━━━━━━━━━━━━━━╇━━━━━━━━━━━━━━━━━━━━━━━━╇━━━━━━━━━━━━━━━┩\n",
       "│ embedding_1 (<span style=\"color: #0087ff; text-decoration-color: #0087ff\">Embedding</span>)         │ (<span style=\"color: #00af00; text-decoration-color: #00af00\">7</span>, <span style=\"color: #00af00; text-decoration-color: #00af00\">8</span>, <span style=\"color: #00af00; text-decoration-color: #00af00\">10</span>)             │       <span style=\"color: #00af00; text-decoration-color: #00af00\">100,000</span> │\n",
       "└─────────────────────────────────┴────────────────────────┴───────────────┘\n",
       "</pre>\n"
      ],
      "text/plain": [
       "┏━━━━━━━━━━━━━━━━━━━━━━━━━━━━━━━━━┳━━━━━━━━━━━━━━━━━━━━━━━━┳━━━━━━━━━━━━━━━┓\n",
       "┃\u001b[1m \u001b[0m\u001b[1mLayer (type)                   \u001b[0m\u001b[1m \u001b[0m┃\u001b[1m \u001b[0m\u001b[1mOutput Shape          \u001b[0m\u001b[1m \u001b[0m┃\u001b[1m \u001b[0m\u001b[1m      Param #\u001b[0m\u001b[1m \u001b[0m┃\n",
       "┡━━━━━━━━━━━━━━━━━━━━━━━━━━━━━━━━━╇━━━━━━━━━━━━━━━━━━━━━━━━╇━━━━━━━━━━━━━━━┩\n",
       "│ embedding_1 (\u001b[38;5;33mEmbedding\u001b[0m)         │ (\u001b[38;5;34m7\u001b[0m, \u001b[38;5;34m8\u001b[0m, \u001b[38;5;34m10\u001b[0m)             │       \u001b[38;5;34m100,000\u001b[0m │\n",
       "└─────────────────────────────────┴────────────────────────┴───────────────┘\n"
      ]
     },
     "metadata": {},
     "output_type": "display_data"
    },
    {
     "data": {
      "text/html": [
       "<pre style=\"white-space:pre;overflow-x:auto;line-height:normal;font-family:Menlo,'DejaVu Sans Mono',consolas,'Courier New',monospace\"><span style=\"font-weight: bold\"> Total params: </span><span style=\"color: #00af00; text-decoration-color: #00af00\">100,000</span> (390.62 KB)\n",
       "</pre>\n"
      ],
      "text/plain": [
       "\u001b[1m Total params: \u001b[0m\u001b[38;5;34m100,000\u001b[0m (390.62 KB)\n"
      ]
     },
     "metadata": {},
     "output_type": "display_data"
    },
    {
     "data": {
      "text/html": [
       "<pre style=\"white-space:pre;overflow-x:auto;line-height:normal;font-family:Menlo,'DejaVu Sans Mono',consolas,'Courier New',monospace\"><span style=\"font-weight: bold\"> Trainable params: </span><span style=\"color: #00af00; text-decoration-color: #00af00\">100,000</span> (390.62 KB)\n",
       "</pre>\n"
      ],
      "text/plain": [
       "\u001b[1m Trainable params: \u001b[0m\u001b[38;5;34m100,000\u001b[0m (390.62 KB)\n"
      ]
     },
     "metadata": {},
     "output_type": "display_data"
    },
    {
     "data": {
      "text/html": [
       "<pre style=\"white-space:pre;overflow-x:auto;line-height:normal;font-family:Menlo,'DejaVu Sans Mono',consolas,'Courier New',monospace\"><span style=\"font-weight: bold\"> Non-trainable params: </span><span style=\"color: #00af00; text-decoration-color: #00af00\">0</span> (0.00 B)\n",
       "</pre>\n"
      ],
      "text/plain": [
       "\u001b[1m Non-trainable params: \u001b[0m\u001b[38;5;34m0\u001b[0m (0.00 B)\n"
      ]
     },
     "metadata": {},
     "output_type": "display_data"
    }
   ],
   "source": [
    "model.summary()"
   ]
  }
 ],
 "metadata": {
  "kernelspec": {
   "display_name": "myenv",
   "language": "python",
   "name": "python3"
  },
  "language_info": {
   "codemirror_mode": {
    "name": "ipython",
    "version": 3
   },
   "file_extension": ".py",
   "mimetype": "text/x-python",
   "name": "python",
   "nbconvert_exporter": "python",
   "pygments_lexer": "ipython3",
   "version": "3.12.3"
  }
 },
 "nbformat": 4,
 "nbformat_minor": 2
}
